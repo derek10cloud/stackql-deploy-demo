{
 "cells": [
  {
   "cell_type": "markdown",
   "metadata": {},
   "source": [
    "<a href=\"https://stackql.io/\" target=\"_blank\">\n",
    "<img src=\"assets/stackql-logo-bold.png\" alt=\"StackQL\" width=\"25%\" height=\"25%\">\n",
    "</a>\n",
    "<br />\n",
    "<blockquote>\n",
    "<p>walkthrough is included in this notebook, modify this template or create your own notebook to get started with StackQL.</p>\n",
    "</blockquote>"
   ]
  },
  {
   "cell_type": "code",
   "execution_count": null,
   "metadata": {},
   "outputs": [],
   "source": [
    "%load_ext pystackql.magic"
   ]
  },
  {
   "cell_type": "markdown",
   "metadata": {},
   "source": [
    "add variables here, for example:"
   ]
  },
  {
   "cell_type": "code",
   "execution_count": null,
   "metadata": {},
   "outputs": [],
   "source": [
    "region = 'ap-southeast-2'"
   ]
  },
  {
   "cell_type": "markdown",
   "metadata": {},
   "source": [
    "run an inline StackQL query using `%stackql`, for example:"
   ]
  },
  {
   "cell_type": "code",
   "execution_count": null,
   "metadata": {},
   "outputs": [],
   "source": [
    "%stackql DESCRIBE aws.ec2.instances"
   ]
  },
  {
   "cell_type": "markdown",
   "metadata": {},
   "source": [
    "run a multiline StackQL query using `%%stackql` using notebook variables, for example:"
   ]
  },
  {
   "cell_type": "code",
   "execution_count": null,
   "metadata": {},
   "outputs": [],
   "source": [
    "%%stackql\n",
    "SELECT\n",
    "JSON_EXTRACT(state, '$$.Name') as instance_state, COUNT(*) as num_instances\n",
    "FROM aws.ec2.instances\n",
    "WHERE region = '$region'\n",
    "GROUP BY instance_state"
   ]
  },
  {
   "cell_type": "code",
   "execution_count": null,
   "metadata": {},
   "outputs": [],
   "source": [
    "_.plot(kind='bar', title='Instances by State', x='instance_state', y='num_instances')"
   ]
  },
  {
   "cell_type": "markdown",
   "metadata": {},
   "source": [
    "if you need to use a `$` in your query, use `$$`, for example:"
   ]
  },
  {
   "cell_type": "code",
   "execution_count": null,
   "metadata": {},
   "outputs": [],
   "source": [
    "%%stackql\n",
    "SELECT \n",
    "bucket_name,\n",
    "json_extract(tag, '$$.Key') as key,\n",
    "json_extract(tag, '$$.Value') as value \n",
    "FROM \n",
    "(\n",
    "SELECT\n",
    "bucket_name,\n",
    "json_each.value as tag\n",
    "FROM aws.s3.buckets, json_each(tags)\n",
    "WHERE region = '$region'\n",
    "AND data__Identifier = 'stackql-trial-bucket-01'\n",
    ")t"
   ]
  }
 ],
 "metadata": {
  "kernelspec": {
   "display_name": "Python 3 (ipykernel)",
   "language": "python",
   "name": "python3"
  },
  "language_info": {
   "codemirror_mode": {
    "name": "ipython",
    "version": 3
   },
   "file_extension": ".py",
   "mimetype": "text/x-python",
   "name": "python",
   "nbconvert_exporter": "python",
   "pygments_lexer": "ipython3",
   "version": "3.10.4"
  },
  "vscode": {
   "interpreter": {
    "hash": "3ad933181bd8a04b432d3370b9dc3b0662ad032c4dfaa4e4f1596c548f763858"
   }
  }
 },
 "nbformat": 4,
 "nbformat_minor": 4
}
